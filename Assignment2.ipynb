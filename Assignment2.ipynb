{
 "cells": [
  {
   "cell_type": "markdown",
   "metadata": {},
   "source": [
    "# Assignment 2\n",
    "\n",
    "\n",
    "- different data types (int , float )\n",
    "- different data structures (list ,  tuple , dict , set)\n",
    "- operations (+, -, *, /, +=, -=, *=, /=)\n"
   ]
  },
  {
   "cell_type": "markdown",
   "metadata": {},
   "source": [
    " Write a program to store the details of four students in an institute inside a dictionary.\n",
    " \n",
    " The details are - {key: rollno, value: [list with \"name\", age and (tuple with marks for three subjects)]}\n",
    " \n",
    " Write a logic to find:\n",
    " 1. the average age of students\n",
    " 2. average mark of each student and print it with out decimal digits"
   ]
  },
  {
   "cell_type": "code",
   "execution_count": 2,
   "metadata": {},
   "outputs": [],
   "source": [
    "student_details = {1: [\"A\", 22, (91, 92, 93)], 2: [\"B\", 23, (92, 93, 94)],\n",
    "                   3: [\"C\", 26, (93, 94, 95)], 4: [\"D\", 20, (92, 93, 94)]}\n"
   ]
  },
  {
   "cell_type": "code",
   "execution_count": 3,
   "metadata": {},
   "outputs": [
    {
     "name": "stdout",
     "output_type": "stream",
     "text": [
      "Average mark of A: 92\n",
      "Average mark of B: 93\n",
      "Average mark of C: 94\n",
      "Average mark of D: 93\n"
     ]
    }
   ],
   "source": [
    "total_age = 0\n",
    "\n",
    "for value in student_details.values():\n",
    "    total_age += value[1]\n",
    "    total_mark = 0\n",
    "    i = 0\n",
    "    for each_mark in value[2]:\n",
    "        total_mark += value[2][i]\n",
    "        i += 1\n",
    "    avg_mark = total_mark/len(value[2])\n",
    "    print(\"Average mark of {0}: {1}\".format(value[0], int(avg_mark)))\n",
    "\n",
    "avg_age = total_age/len(student_details)\n"
   ]
  },
  {
   "cell_type": "code",
   "execution_count": 4,
   "metadata": {},
   "outputs": [
    {
     "name": "stdout",
     "output_type": "stream",
     "text": [
      "Average age of students is: 22.75\n"
     ]
    }
   ],
   "source": [
    "print(\"Average age of students is: {0}\".format(avg_age))\n"
   ]
  },
  {
   "cell_type": "markdown",
   "metadata": {},
   "source": [
    "## Skeleton"
   ]
  },
  {
   "cell_type": "code",
   "execution_count": null,
   "metadata": {},
   "outputs": [],
   "source": [
    "# Write a program to store the details of four students in an institute inside a dictionary\n",
    "# The details are - {key: rollno, value: [list with \"name\", age and (tuple with marks for three subjects)]}\n",
    "# \n",
    "# Write a logic to find:\n",
    "# 1. the average age of students\n",
    "# 2. average mark of each student and print it with out decimal digits\n",
    "\n",
    "student_details = {1:[\"A\",22, (91,92,93)],2:[\"B\",23, (92,93,94)], 3:[\"C\",26, (93,94,95)], 4:[\"D\",20, (92,93,94)]}\n",
    "\n",
    "for value in student_details.values():\n",
    "    # Logic to find the average age\n",
    "    \n",
    "    for each_mark in value[2]:\n",
    "        # logic to find the average mark of each student\n",
    "    \n",
    "    # print the averade marks here\n",
    "\n",
    "# print the average age here"
   ]
  }
 ],
 "metadata": {
  "kernelspec": {
   "display_name": "Python 3",
   "language": "python",
   "name": "python3"
  },
  "language_info": {
   "codemirror_mode": {
    "name": "ipython",
    "version": 3
   },
   "file_extension": ".py",
   "mimetype": "text/x-python",
   "name": "python",
   "nbconvert_exporter": "python",
   "pygments_lexer": "ipython3",
   "version": "3.7.6"
  }
 },
 "nbformat": 4,
 "nbformat_minor": 4
}
