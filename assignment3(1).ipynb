{
 "cells": [
  {
   "cell_type": "markdown",
   "metadata": {},
   "source": [
    "# Assignment 3\n",
    "\n",
    "## Classes in Python\n",
    "\n",
    "Write a program to store grocery details like ```product_id```, ```product_name``` and ```product_price``` in a dictionary with ```product_id``` as the key using the class concept.\n",
    "\n",
    "Write a function ```add_to_dictionary()``` to add items to the dictionary.\n",
    "\n",
    "Use function ```show_dictionary()``` to show data in the dictionary.\n",
    "\n",
    "Define a function ```sort_out()``` to print how many items are there with price less than $9.\n"
   ]
  },
  {
   "cell_type": "code",
   "execution_count": 1,
   "metadata": {},
   "outputs": [],
   "source": [
    "class GroceryStore:\n",
    "    product_dictionary = {}\n",
    "\n",
    "    def __init__(self, product_id, product_name, product_price):\n",
    "\n",
    "        self.product_id = product_id\n",
    "        self.product_name = product_name\n",
    "        self.product_price = product_price\n",
    "        self.number_of_items = 0\n",
    "\n",
    "    def add_to_dictionary(self):\n",
    "        GroceryStore.product_dictionary[self.product_id] = [self.product_name, self.product_price]\n",
    "\n",
    "    def show_dictionary(self):\n",
    "        print(GroceryStore.product_dictionary)\n",
    "\n",
    "    def sort_out(self):\n",
    "        for item in GroceryStore.product_dictionary.items():\n",
    "            if item[1][1] < 9:\n",
    "                self.number_of_items += 1\n",
    "        print(\"The number of items with price less than $9 is {0}\".format(self.number_of_items))\n"
   ]
  },
  {
   "cell_type": "code",
   "execution_count": 2,
   "metadata": {},
   "outputs": [],
   "source": [
    "g = GroceryStore(101, 'Wheat', 2)\n",
    "g.add_to_dictionary()\n",
    "g = GroceryStore(201, 'Biscuits', 5)\n",
    "g.add_to_dictionary()\n",
    "g = GroceryStore(312, 'Oil', 12)\n",
    "g.add_to_dictionary()\n"
   ]
  },
  {
   "cell_type": "code",
   "execution_count": 3,
   "metadata": {},
   "outputs": [
    {
     "name": "stdout",
     "output_type": "stream",
     "text": [
      "{101: ['Wheat', 2], 201: ['Biscuits', 5], 312: ['Oil', 12]}\n"
     ]
    }
   ],
   "source": [
    "g.show_dictionary()\n"
   ]
  },
  {
   "cell_type": "code",
   "execution_count": 4,
   "metadata": {},
   "outputs": [
    {
     "name": "stdout",
     "output_type": "stream",
     "text": [
      "The number of items with price less than $9 is 2\n"
     ]
    }
   ],
   "source": [
    "g.sort_out()\n"
   ]
  }
 ],
 "metadata": {
  "kernelspec": {
   "display_name": "Python 3",
   "language": "python",
   "name": "python3"
  },
  "language_info": {
   "codemirror_mode": {
    "name": "ipython",
    "version": 3
   },
   "file_extension": ".py",
   "mimetype": "text/x-python",
   "name": "python",
   "nbconvert_exporter": "python",
   "pygments_lexer": "ipython3",
   "version": "3.7.6"
  }
 },
 "nbformat": 4,
 "nbformat_minor": 4
}
