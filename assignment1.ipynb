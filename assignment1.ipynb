{
 "cells": [
  {
   "cell_type": "markdown",
   "metadata": {},
   "source": [
    "# String operations\n",
    "\n",
    "Write a python program to encode a message to send it secretly to your friends. You can use simple substitution cipher method to replace each letter by a letter some fixed number of positions down the alphabet. This fixed number is called the key. Send this key to your friend so that he can decrypt using a decryption script."
   ]
  },
  {
   "cell_type": "markdown",
   "metadata": {},
   "source": [
    "**Example:**\n",
    "\n",
    "Enter your message: Hello World!\n",
    "\n",
    "Enter the key: 2\n",
    "\n",
    "The cipher message is:  Jgnnq\"Yqtnf#\n",
    "\n",
    "**Hint:**\n",
    "Since Python strings are immutable, you need to first convert it to a list. Then do the operations on list and convert it back to string.\n",
    "\n",
    "**ord()** - The ord() function returns an integer representing the Unicode character.\n",
    "\n",
    "**chr()** - The chr() method returns a string representing a character whose Unicode code point is an integer.\n",
    "\n",
    "*This program must be written as a literate program using Jupyter notebook.*"
   ]
  },
  {
   "cell_type": "code",
   "execution_count": 1,
   "metadata": {},
   "outputs": [
    {
     "name": "stdout",
     "output_type": "stream",
     "text": [
      "I can help you write an encrypted message to your friend\n",
      "Enter your message: a for apple\n",
      "Enter the key: 1\n",
      "The cipher message is:  b!gps!bqqmf\n"
     ]
    }
   ],
   "source": [
    "print(\"I can help you write an encrypted message to your friend\")\n",
    "\n",
    "message = input(\"Enter your message: \")\n",
    "key = int(input(\"Enter the key: \"))\n",
    "message = list(message)\n",
    "\n",
    "for i in range(len(message)):\n",
    "    message[i] = chr(ord(message[i]) + key)\n",
    "\n",
    "message = ''.join(message)\n",
    "print(\"The cipher message is: \", message)"
   ]
  },
  {
   "cell_type": "markdown",
   "metadata": {},
   "source": [
    "### Output\n",
    "\n",
    "```\n",
    "\n",
    "Enter your message: Hello World!\n",
    "Enter the key: 2\n",
    "The cipher message is:  Jgnnq\"Yqtnf#\n",
    "```"
   ]
  }
 ],
 "metadata": {
  "kernelspec": {
   "display_name": "Python 3",
   "language": "python",
   "name": "python3"
  },
  "language_info": {
   "codemirror_mode": {
    "name": "ipython",
    "version": 3
   },
   "file_extension": ".py",
   "mimetype": "text/x-python",
   "name": "python",
   "nbconvert_exporter": "python",
   "pygments_lexer": "ipython3",
   "version": "3.7.6"
  }
 },
 "nbformat": 4,
 "nbformat_minor": 4
}
